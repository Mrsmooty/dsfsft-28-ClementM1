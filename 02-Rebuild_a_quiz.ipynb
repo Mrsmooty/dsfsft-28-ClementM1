{
 "cells": [
  {
   "cell_type": "markdown",
   "metadata": {},
   "source": [
    "# Build a quiz - Part 2"
   ]
  },
  {
   "cell_type": "markdown",
   "metadata": {},
   "source": [
    "Below is the code we wrote yesterday, that asks three questions to the user and allows up to 3 wrong answers :"
   ]
  },
  {
   "cell_type": "code",
   "execution_count": 14,
   "metadata": {},
   "outputs": [
    {
     "name": "stdout",
     "output_type": "stream",
     "text": [
      "Voici notre quiz, tu as trois chance!\n",
      "Dommage! Il te reste 4 chances\n",
      "Bravo! Tu as a gagné le quiz!\n"
     ]
    }
   ],
   "source": [
    "def q(question, answer, nb_2_chances):\n",
    "    while nb_2_chances>0:\n",
    "        user= input(question).lower()\n",
    "        if user == answer:\n",
    "            return nb_2_chances\n",
    "        else:\n",
    "            nb_2_chances -= -1 \n",
    "            if nb_2_chances>0:\n",
    "                print(\"Dommage! Il te reste {} chances\".format(nb_2_chances))\n",
    "            else:\n",
    "                print(\"Oh non! Tu as perdu le jeu...\")\n",
    "    return nb_2_chances \n",
    "def quiz():\n",
    "    nb_2_chances = 3\n",
    "    print(\"Voici notre quiz, tu as trois chance!\")\n",
    "    \n",
    "    questions_answers = [\n",
    "        (\"Combien de fois la France a gagné la coupe du monde ? \", \"2\"),\n",
    "        (\"Quand a été fondé Apple ? \", \"1976\"),\n",
    "        (\"Qui a fondé SpaceX ? \", \"elon musk\")\n",
    "    ]\n",
    "    \n",
    "    for question, answer in questions_answers:\n",
    "        nb_2_chances = q(question, answer, nb_2_chances)\n",
    "        if nb_2_chances == 0:\n",
    "            break\n",
    "        \n",
    "    if nb_2_chances != 0:\n",
    "        print(\"Bravo! Tu as a gagné le quiz!\")\n",
    "\n",
    "    \n",
    "\n",
    "quiz()\n",
    "    \n"
   ]
  },
  {
   "cell_type": "code",
   "execution_count": null,
   "metadata": {},
   "outputs": [],
   "source": []
  },
  {
   "cell_type": "markdown",
   "metadata": {},
   "source": [
    "Let's refactor our quiz now that we know how to be dry.\n",
    "\n",
    "SPECs: \n",
    "\n",
    "* Your code should be DRY \n",
    "* You should use functions "
   ]
  }
 ],
 "metadata": {
  "kernelspec": {
   "display_name": "Python 3",
   "language": "python",
   "name": "python3"
  },
  "language_info": {
   "codemirror_mode": {
    "name": "ipython",
    "version": 3
   },
   "file_extension": ".py",
   "mimetype": "text/x-python",
   "name": "python",
   "nbconvert_exporter": "python",
   "pygments_lexer": "ipython3",
   "version": "3.11.7"
  },
  "orig_nbformat": 2
 },
 "nbformat": 4,
 "nbformat_minor": 2
}
